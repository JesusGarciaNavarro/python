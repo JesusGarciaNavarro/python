{
  "nbformat": 4,
  "nbformat_minor": 0,
  "metadata": {
    "colab": {
      "provenance": [],
      "authorship_tag": "ABX9TyNhFTPXi0VAjxJmYwPU3NqF",
      "include_colab_link": true
    },
    "kernelspec": {
      "name": "python3",
      "display_name": "Python 3"
    },
    "language_info": {
      "name": "python"
    }
  },
  "cells": [
    {
      "cell_type": "markdown",
      "metadata": {
        "id": "view-in-github",
        "colab_type": "text"
      },
      "source": [
        "<a href=\"https://colab.research.google.com/github/JesusGarciaNavarro/python/blob/main/UD01_Relaci%C3%B3n_02_Bucles_Python.ipynb\" target=\"_parent\"><img src=\"https://colab.research.google.com/assets/colab-badge.svg\" alt=\"Open In Colab\"/></a>"
      ]
    },
    {
      "cell_type": "markdown",
      "source": [
        "# Ejercicios – Punto 8: Estructuras de control y bucles\n",
        "---\n",
        "\n",
        "## Ejercicio 1: Comparación de números\n",
        "Escribe un programa que:\n",
        "- Pida al usuario dos números.\n",
        "- Indique cuál de ellos es mayor, o si son iguales.\n",
        "- Usa la estructura `if-elif-else`.\n",
        "- Mientras sean distintos se repetirá el ejercicio.\n"
      ],
      "metadata": {
        "id": "rfLE_mWy0WJz"
      }
    },
    {
      "cell_type": "code",
      "source": [],
      "metadata": {
        "id": "yTI60Sed0W4r"
      },
      "execution_count": null,
      "outputs": []
    },
    {
      "cell_type": "markdown",
      "source": [
        "\n",
        "\n",
        "## Ejercicio 2: Par o impar\n",
        "Crea un programa que:\n",
        "- Con un bucle for muestre los números pares del 1 al 100.\n",
        "\n"
      ],
      "metadata": {
        "id": "_tvFtLlV0fQw"
      }
    },
    {
      "cell_type": "code",
      "source": [],
      "metadata": {
        "id": "FkSqvGlF0f5Q"
      },
      "execution_count": null,
      "outputs": []
    },
    {
      "cell_type": "markdown",
      "source": [
        "\n",
        "## Ejercicio 3: Número positivo, negativo o cero\n",
        "Haz un programa que:\n",
        "- Programa que vaya pidiendo números hasta que se introduzca un número negativo o 0.\n",
        "\n",
        "\n"
      ],
      "metadata": {
        "id": "yEObIbAs0i7J"
      }
    },
    {
      "cell_type": "code",
      "source": [],
      "metadata": {
        "id": "nFfmXOG80kQV"
      },
      "execution_count": null,
      "outputs": []
    },
    {
      "cell_type": "markdown",
      "source": [
        "## Ejercicio 4: Tabla de multiplicar\n",
        "Escribe un programa que:\n",
        "- Pida al usuario un número.\n",
        "- Imprima la **tabla de multiplicar** de ese número del 1 al 10.\n",
        "- Usa un **bucle `for`**.\n",
        "\n"
      ],
      "metadata": {
        "id": "B8Z-e6W-0mRf"
      }
    },
    {
      "cell_type": "code",
      "source": [],
      "metadata": {
        "id": "CBXv0WmG0lKR"
      },
      "execution_count": null,
      "outputs": []
    },
    {
      "cell_type": "markdown",
      "source": [
        "## Ejercicio 5: Suma de números hasta cero\n",
        "Crea un programa que:\n",
        "- Solicite números al usuario hasta que ingrese un **0**.\n",
        "- Sume los números introducidos.\n",
        "- Muestra la suma total al finalizar.\n",
        "- Usa un **bucle `while`**.\n",
        "\n",
        "\n",
        "\n"
      ],
      "metadata": {
        "id": "x53qOmZE0rew"
      }
    },
    {
      "cell_type": "code",
      "source": [],
      "metadata": {
        "id": "160nTpwR0r3Y"
      },
      "execution_count": null,
      "outputs": []
    },
    {
      "cell_type": "markdown",
      "source": [
        "## Ejercicio 6: Factorial de un número\n",
        "Haz un programa que:\n",
        "- Solicite un número entero `n`.\n",
        "- Calcule su **factorial** usando un **bucle `while`**.\n",
        "- Muestra el resultado.\n",
        "\n"
      ],
      "metadata": {
        "id": "ZLcQCfBC0k55"
      }
    },
    {
      "cell_type": "code",
      "source": [],
      "metadata": {
        "id": "9p3o_BaI0yj9"
      },
      "execution_count": null,
      "outputs": []
    },
    {
      "cell_type": "markdown",
      "source": [
        "## Ejercicio 7: Números primos\n",
        "Crea un programa que:\n",
        "- Solicite un número entero mayor que 1.\n",
        "- Determine si el número es **primo** o no.\n",
        "- Usa un **bucle `for`** y `if-else`.\n"
      ],
      "metadata": {
        "id": "9QLKPaVb01bX"
      }
    },
    {
      "cell_type": "code",
      "source": [],
      "metadata": {
        "id": "bGq8l9lt016n"
      },
      "execution_count": null,
      "outputs": []
    }
  ]
}