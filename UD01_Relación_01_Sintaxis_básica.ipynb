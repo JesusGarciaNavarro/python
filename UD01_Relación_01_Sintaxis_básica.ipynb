{
  "nbformat": 4,
  "nbformat_minor": 0,
  "metadata": {
    "colab": {
      "provenance": [],
      "authorship_tag": "ABX9TyPLlW0rPfbrO7iC0gorj+kw",
      "include_colab_link": true
    },
    "kernelspec": {
      "name": "python3",
      "display_name": "Python 3"
    },
    "language_info": {
      "name": "python"
    }
  },
  "cells": [
    {
      "cell_type": "markdown",
      "metadata": {
        "id": "view-in-github",
        "colab_type": "text"
      },
      "source": [
        "<a href=\"https://colab.research.google.com/github/JesusGarciaNavarro/python/blob/main/UD01_Relaci%C3%B3n_01_Sintaxis_b%C3%A1sica.ipynb\" target=\"_parent\"><img src=\"https://colab.research.google.com/assets/colab-badge.svg\" alt=\"Open In Colab\"/></a>"
      ]
    },
    {
      "cell_type": "markdown",
      "source": [
        "# 📘 Relación de Ejercicios: Variables, Operadores, Condicionales (hasta If anidados)\n",
        "\n",
        "---\n",
        "\n",
        "## 1. Variables y Tipos de Datos\n",
        "1. Declara variables de tipo entero, decimal, cadena y booleano. Muéstralas por pantalla.  \n",
        "2. Pide al usuario su nombre y edad con `input()` y muestra un mensaje:  \n",
        "3. Convierte un número decimal introducido por el usuario en entero y muéstralo.  \n",
        "4. Declara dos variables numéricas y muestra su suma, resta, multiplicación y división.  \n",
        "\n",
        "---"
      ],
      "metadata": {
        "id": "1rERWRuKSDxV"
      }
    },
    {
      "cell_type": "code",
      "source": [],
      "metadata": {
        "id": "_Vu1whg9SJuf"
      },
      "execution_count": null,
      "outputs": []
    },
    {
      "cell_type": "markdown",
      "source": [
        "\n",
        "## 2. Operadores\n",
        "1. Pide dos números al usuario y muestra:  \n",
        "- Su suma  \n",
        "- Su división entera  \n",
        "- El resto de la división  \n",
        "- La potencia del primero elevado al segundo  \n",
        "  \n",
        "\n",
        "\n",
        "---"
      ],
      "metadata": {
        "id": "cH4l5u7FSDp2"
      }
    },
    {
      "cell_type": "code",
      "source": [
        "\n"
      ],
      "metadata": {
        "id": "aYzMIOyJSNOs"
      },
      "execution_count": null,
      "outputs": []
    },
    {
      "cell_type": "markdown",
      "source": [
        "## 3. Condicionales Simples\n",
        "1. Pide un número y muestra si es positivo.  \n",
        "2. Pide una contraseña y comprueba si coincide con `\"admin\"`.  \n",
        "3. Pide una nota y muestra `\"Has aprobado\"` si es mayor o igual a 5.  \n",
        "4. Escribe un programa que compruebe si un número es par o impar.  \n",
        "5. Pide al usuario su edad e imprima si está en el rango de 18 a 65 años.\n",
        "\n",
        "---"
      ],
      "metadata": {
        "id": "WGu_fjQHSDb-"
      }
    },
    {
      "cell_type": "code",
      "source": [],
      "metadata": {
        "id": "idEALqvPSSuu"
      },
      "execution_count": null,
      "outputs": []
    },
    {
      "cell_type": "markdown",
      "source": [
        "\n",
        "## 4. Condicionales Compuestos (`if / else`)\n",
        "1. Pide un número y muestra si es positivo, negativo o 0.  \n",
        "2. Pide la edad de una persona y muestra:  \n",
        "- `\"Eres mayor de edad\"` si es mayor o igual a 18.  \n",
        "- `\"Eres menor de edad\"` en caso contrario.  \n",
        "\n",
        "\n",
        "---"
      ],
      "metadata": {
        "id": "FwktgAvPSTaO"
      }
    },
    {
      "cell_type": "code",
      "source": [],
      "metadata": {
        "id": "vffO1Hq-SW-f"
      },
      "execution_count": null,
      "outputs": []
    },
    {
      "cell_type": "markdown",
      "source": [
        "## 5. Condicionales Múltiples (`if / elif / else`)\n",
        "1. Pide una nota y clasifícala en:  \n",
        "- Suspenso (<5)  \n",
        "- Aprobado (5-6)  \n",
        "- Notable (7-8)  \n",
        "- Sobresaliente (9-10)  \n",
        "2. Pide al usuario un número del 1 al 7 y muestra el día de la semana correspondiente.  \n",
        "3. Pide una temperatura y muestra:  \n",
        "- `\"Frío\"` si es menor de 15.  \n",
        "- `\"Templado\"` si está entre 15 y 25.  \n",
        "- `\"Caluroso\"` si es mayor de 25.  \n",
        "\n",
        "---"
      ],
      "metadata": {
        "id": "lMB32gjsSXVl"
      }
    },
    {
      "cell_type": "code",
      "source": [],
      "metadata": {
        "id": "EvY3CbfYSa3N"
      },
      "execution_count": null,
      "outputs": []
    },
    {
      "cell_type": "markdown",
      "source": [
        "\n",
        "\n",
        "\n",
        "\n",
        "\n",
        "\n",
        "\n",
        "## 6. Condicionales Anidados (`if` dentro de `if`)\n",
        "1. Pide una nota y además comprueba:  \n",
        "- Si la nota es mayor o igual a 5, pregunta si es mayor o igual a 9 → `\"Sobresaliente\"`.  \n",
        "- Si no, simplemente indica `\"Aprobado\"`.  \n",
        "2. Pide la edad y si es mayor de 18:  \n",
        "- Pregunta si tiene carnet de conducir.  \n",
        "- Si lo tiene → `\"Puedes conducir\"`.  \n",
        "- Si no → `\"Necesitas carnet para conducir\"`.  \n",
        "3. Pide un usuario y una contraseña:  \n",
        "- Si el usuario es `\"admin\"`, comprueba si la contraseña es `\"1234\"`.  \n",
        "- Si ambas coinciden → `\"Acceso concedido\"`.  \n",
        "- Si no → `\"Acceso denegado\"`.  \n"
      ],
      "metadata": {
        "id": "2z5u1iqLI8C3"
      }
    },
    {
      "cell_type": "code",
      "source": [],
      "metadata": {
        "id": "RMZ9Zk0hI-Dc"
      },
      "execution_count": null,
      "outputs": []
    }
  ]
}