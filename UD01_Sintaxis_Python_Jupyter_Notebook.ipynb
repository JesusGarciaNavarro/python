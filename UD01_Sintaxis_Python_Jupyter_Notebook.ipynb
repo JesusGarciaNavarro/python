{
  "nbformat": 4,
  "nbformat_minor": 0,
  "metadata": {
    "colab": {
      "provenance": [],
      "authorship_tag": "ABX9TyNUcKiWx1VxWrAeyhfpKZ8c",
      "include_colab_link": true
    },
    "kernelspec": {
      "name": "python3",
      "display_name": "Python 3"
    },
    "language_info": {
      "name": "python"
    }
  },
  "cells": [
    {
      "cell_type": "markdown",
      "metadata": {
        "id": "view-in-github",
        "colab_type": "text"
      },
      "source": [
        "<a href=\"https://colab.research.google.com/github/JesusGarciaNavarro/python/blob/main/UD01_Sintaxis_Python_Jupyter_Notebook.ipynb\" target=\"_parent\"><img src=\"https://colab.research.google.com/assets/colab-badge.svg\" alt=\"Open In Colab\"/></a>"
      ]
    },
    {
      "cell_type": "markdown",
      "source": [
        "| Curso       | Centro           | Creado por           |  \n",
        "|------------|-----------------|--------------------|\n",
        "| 2º DAW     | IES Mar de Cádiz | Jesús García Navarro |\n",
        "# 🐍 Unidad 01 - Sintaxis de Python\n",
        "\n",
        "Python es un lenguaje de programación **interpretado, de alto nivel y de propósito general**. Esto significa que, a diferencia de lenguajes compilados como Java, el código se ejecuta directamente mediante un **intérprete**, sin necesidad de generar un archivo ejecutable previo. Cada línea de código es leída y ejecutada al momento, lo que facilita la experimentación y el desarrollo rápido.\n",
        "\n",
        "### Ventajas principales de Python\n",
        "\n",
        "- **Sintaxis sencilla y legible:** El código se acerca mucho al lenguaje humano, lo que permite concentrarse en la lógica y no en la complejidad sintáctica.\n",
        "- **Tipado dinámico:** No es necesario declarar el tipo de las variables; Python lo infiere automáticamente según el valor que se asigne.\n",
        "- **Multiplataforma:** El mismo código puede ejecutarse en Windows, macOS o Linux sin modificaciones.\n",
        "- **Gran ecosistema de librerías:** Python cuenta con miles de módulos y librerías para casi cualquier necesidad: ciencia de datos, desarrollo web, automatización, inteligencia artificial, etc.\n",
        "- **Productividad y rapidez de desarrollo:** Gracias a su sintaxis simple y a las herramientas disponibles, se puede desarrollar software funcional en menos tiempo que en lenguajes más verbosos como Java.\n",
        "\n",
        "### Diferencias frente a Java\n",
        "\n",
        "- Python es **interpretado**, Java es compilado a bytecode y ejecutado en la JVM.\n",
        "- Python tiene **tipado dinámico**, mientras que Java es **estáticamente tipado** (hay que declarar tipos).\n",
        "- La **identación** en Python define bloques de código, mientras que en Java se usan llaves `{}`.\n",
        "- Python es más **conciso**, lo que permite escribir programas más cortos y fáciles de leer.\n",
        "\n",
        "(Los iconos en Markdown se añaden escribiendo : y el nombre Ej: 🏫)\n",
        "\n"
      ],
      "metadata": {
        "id": "yKiFyLbNsDbD"
      }
    },
    {
      "cell_type": "markdown",
      "source": [
        "## 📝 1. Comentarios en Python\n",
        "\n",
        "Los comentarios son anotaciones en el código que **no afectan a la ejecución** y sirven para documentar, explicar la lógica o dejar recordatorios.\n",
        "\n",
        "### Tipos de comentarios:\n",
        "\n",
        "1. **Comentarios de una sola línea**  \n",
        "   - Se escriben con el símbolo `#`.  \n",
        "   - Todo lo que esté después del `#` en esa línea será ignorado por Python.\n",
        "\n",
        "2. **Comentarios multilínea o documentación**  \n",
        "   - Se escriben usando **comillas triples** `\"\"\"` o `'''`.  \n",
        "   - Aunque técnicamente son cadenas de texto, si no se asignan a ninguna variable, Python las ignora.  \n",
        "   - Se usan para documentar bloques de código o funciones.\n",
        "\n",
        "\n",
        "```python\n",
        "# Esto es un comentario en Python\n",
        "\n",
        "\n",
        "\"\"\"\n",
        "Esto es un comentario de varias líneas (en realidad es un string multilínea\n",
        "no asignado, usado comúnmente como comentario).\n",
        "\"\"\"\n",
        "```"
      ],
      "metadata": {
        "id": "2vyK5T6SsTFi"
      }
    },
    {
      "cell_type": "markdown",
      "source": [
        "## 💻 2. Variables y Tipos Simples en Python\n",
        "\n",
        "En Python, las **variables** son nombres que apuntan a valores almacenados en memoria. A diferencia de otros lenguajes como Java, **no es necesario declarar su tipo**; Python utiliza **tipado dinámico**, lo que significa que el tipo se asigna automáticamente según el valor que guardes.\n",
        "\n",
        "### Tipos de datos simples más comunes\n",
        "- `int`: números enteros, e.g., `10`\n",
        "- `float`: números decimales, e.g., `3.14`\n",
        "- `str`: cadenas de texto, e.g., `\"Hola\"`\n",
        "- `bool`: valores booleanos (`True` o `False`)\n",
        "\n",
        "### Operaciones con variables\n",
        "- `print()`: muestra información en pantalla.\n",
        "- `input()`: permite leer datos del usuario (siempre devuelve un `str`).\n",
        "- **Casteo (conversión de tipo)**: se puede convertir entre tipos usando `int()`, `float()`, `str()`, `bool()`.\n",
        "\n",
        "### Notas importantes\n",
        "- Las variables pueden **cambiar de tipo** en cualquier momento.\n",
        "- Es recomendable usar nombres descriptivos."
      ],
      "metadata": {
        "id": "LH_r7uzu0XxM"
      }
    },
    {
      "cell_type": "code",
      "source": [
        "# Asignación de variables\n",
        "numero_entero = 10\n",
        "numero_decimal = 3.14\n",
        "texto = \"Hola, Python\"\n",
        "es_verdadero = True\n",
        "\n",
        "# Mostrar variables en pantalla\n",
        "print(numero_entero)\n",
        "print(numero_decimal)\n",
        "print(texto)\n",
        "print(es_verdadero)\n",
        "\n",
        "# Leer datos del usuario\n",
        "# nombre = input(\"¿Cómo te llamas? \")\n",
        "# print(\"Hola,\", nombre)\n",
        "\n",
        "# Casteo de tipos\n",
        "valor_str = \"25\"\n",
        "valor_int = int(valor_str)    # convertir a entero\n",
        "valor_float = float(valor_str) # convertir a decimal\n",
        "print(valor_int, type(valor_int))\n",
        "print(valor_float, type(valor_float))\n",
        "\n",
        "# Cambio de tipo dinámico\n",
        "variable = 100        # int\n",
        "print(variable, type(variable))\n",
        "variable = \"Python\"   # str\n",
        "print(variable, type(variable))\n"
      ],
      "metadata": {
        "colab": {
          "base_uri": "https://localhost:8080/"
        },
        "id": "vx3hRHG-z_LO",
        "outputId": "3cb4ee32-f280-47c5-dd0b-00857e016afe"
      },
      "execution_count": null,
      "outputs": [
        {
          "output_type": "stream",
          "name": "stdout",
          "text": [
            "10\n",
            "3.14\n",
            "Hola, Python\n",
            "True\n",
            "25 <class 'int'>\n",
            "25.0 <class 'float'>\n",
            "100 <class 'int'>\n",
            "Python <class 'str'>\n"
          ]
        }
      ]
    },
    {
      "cell_type": "markdown",
      "source": [
        "### 📌 3. Mostrar variables con `f-strings`\n",
        "\n",
        "En Python podemos usar **f-strings** para incrustar variables directamente dentro de cadenas de texto de manera clara y legible.\n",
        "\n",
        "Sintaxis:\n",
        "\n",
        "```python\n",
        "nombre = \"Ana\"\n",
        "edad = 25\n",
        "print(f\"Hola, mi nombre es {nombre} y tengo {edad} años.\")\n",
        "```\n",
        "\n",
        "**Ventajas de los f-strings:**\n",
        "\n",
        "* El código es más limpio y fácil de leer.\n",
        "* Permiten realizar operaciones dentro de las llaves {}.\n",
        "* Evitan concatenaciones largas con + y conversiones de tipo manual.\n",
        "* Son la forma más moderna y recomendada de mostrar variables junto a texto."
      ],
      "metadata": {
        "id": "XM0-24TC0nFB"
      }
    },
    {
      "cell_type": "markdown",
      "source": [
        "## ➕ 4. Operadores en Python\n",
        "\n",
        "Los **operadores** permiten realizar cálculos, comparaciones y operaciones lógicas con los datos.  \n",
        "\n",
        "### 1️⃣ Operadores aritméticos\n",
        "\n",
        "| Operador | Descripción           **texto en negrita**      | Ejemplo      |\n",
        "|----------|----------------------------|-------------|\n",
        "| `+`      | Suma                        | `5 + 3`     |\n",
        "| `-`      | Resta                       | `5 - 3`     |\n",
        "| `*`      | Multiplicación              | `5 * 3`     |\n",
        "| `/`      | División (resultado float)  | `5 / 3`     |\n",
        "| `//`     | División entera             | `5 // 3`    |\n",
        "| `%`      | Módulo (resto)             | `5 % 3`     |\n",
        "| `**`     | Potencia                    | `5 ** 3`    |\n",
        "\n",
        "### 2️⃣ Operadores de comparación\n",
        "\n",
        "| Operador | Descripción           | Ejemplo    |\n",
        "|----------|---------------------|-----------|\n",
        "| `==`     | Igual                | `5 == 3`  |\n",
        "| `!=`     | Distinto             | `5 != 3`  |\n",
        "| `>`      | Mayor que            | `5 > 3`   |\n",
        "| `<`      | Menor que            | `5 < 3`   |\n",
        "| `>=`     | Mayor o igual que    | `5 >= 3`  |\n",
        "| `<=`     | Menor o igual que    | `5 <= 3`  |\n",
        "\n",
        "### 3️⃣ Operadores lógicos\n",
        "\n",
        "| Operador | Descripción                                | Ejemplo         |\n",
        "|----------|-------------------------------------------|----------------|\n",
        "| `and`    | True si ambas condiciones son True         | `True and False` |\n",
        "| `or`     | True si alguna condición es True           | `True or False`  |\n",
        "| `not`    | Niega la condición                        | `not True`       |\n",
        ":"
      ],
      "metadata": {
        "id": "QY2aCD9c1sna"
      }
    },
    {
      "cell_type": "code",
      "source": [
        "a = 10\n",
        "b = 3\n",
        "\n",
        "# Operadores aritméticos\n",
        "print(a, \"+\", b, \"=\", a + b)\n",
        "print(a, \"-\", b, \"=\", a - b)\n",
        "print(a, \"*\", b, \"=\", a * b)\n",
        "print(a, \"/\", b, \"=\", a / b)\n",
        "print(a, \"//\", b, \"=\", a // b)\n",
        "print(a, \"%\", b, \"=\", a % b)\n",
        "print(a, \"**\", b, \"=\", a ** b)\n",
        "\n",
        "# Operadores de comparación\n",
        "print(a, \"==\", b, \"->\", a == b)\n",
        "print(a, \"!=\", b, \"->\", a != b)\n",
        "print(a, \">\", b, \"->\", a > b)\n",
        "print(a, \"<\", b, \"->\", a < b)\n",
        "print(a, \">=\", b, \"->\", a >= b)\n",
        "print(a, \"<=\", b, \"->\", a <= b)\n",
        "\n",
        "# Operadores lógicos\n",
        "x = True\n",
        "y = False\n",
        "print(x, \"and\", y, \"->\", x and y)\n",
        "print(x, \"or\", y, \"->\", x or y)\n",
        "print(\"not\", x, \"->\", not x)\n"
      ],
      "metadata": {
        "colab": {
          "base_uri": "https://localhost:8080/"
        },
        "id": "F5l6gEOZ2UcM",
        "outputId": "ba2e94f0-1e15-434f-b5e8-642d387306d8"
      },
      "execution_count": null,
      "outputs": [
        {
          "output_type": "stream",
          "name": "stdout",
          "text": [
            "10 + 3 = 13\n",
            "10 - 3 = 7\n",
            "10 * 3 = 30\n",
            "10 / 3 = 3.3333333333333335\n",
            "10 // 3 = 3\n",
            "10 % 3 = 1\n",
            "10 ** 3 = 1000\n",
            "10 == 3 -> False\n",
            "10 != 3 -> True\n",
            "10 > 3 -> True\n",
            "10 < 3 -> False\n",
            "10 >= 3 -> True\n",
            "10 <= 3 -> False\n",
            "True and False -> False\n",
            "True or False -> True\n",
            "not True -> False\n"
          ]
        }
      ]
    },
    {
      "cell_type": "markdown",
      "source": [
        "## 📝 5. Identación en Python\n",
        "\n",
        "En Python, la **identación** (espacios al inicio de la línea) es **obligatoria** y define los **bloques de código**. A diferencia de otros lenguajes que usan llaves `{}` (como Java), en Python el nivel de identación indica qué instrucciones pertenecen a un bloque.\n",
        "\n",
        "### Reglas importantes:\n",
        "- Se recomienda usar **4 espacios** por nivel de identación (no usar tabulador mezclado con espacios).\n",
        "- Todos los comandos dentro de un bloque deben tener la misma identación.\n",
        "- Una identación incorrecta genera un **`IndentationError`**.\n",
        "- Los bloques comunes: `if`, `for`, `while`, `def`, `class`.\n",
        "\n",
        "### Beneficios:\n",
        "- Código más limpio y legible.\n",
        "- Evita errores de estructura difíciles de detectar.\n"
      ],
      "metadata": {
        "id": "v0QkqI1i2y1a"
      }
    },
    {
      "cell_type": "code",
      "source": [
        "# Ejemplo correcto\n",
        "if True:\n",
        "    print(\"Este bloque está correctamente identado\")\n",
        "    if 5 > 2:\n",
        "        print(\"Bloque interno también correcto\")\n",
        "\n",
        "# Ejemplo incorrecto (descomentar para ver el error)\n",
        "# if True:\n",
        "# print(\"Esto dará un IndentationError\")\n"
      ],
      "metadata": {
        "colab": {
          "base_uri": "https://localhost:8080/"
        },
        "id": "E4uDi2pO2mz1",
        "outputId": "99ce9847-f28d-42ab-c3c1-6344c52eb51f"
      },
      "execution_count": null,
      "outputs": [
        {
          "output_type": "stream",
          "name": "stdout",
          "text": [
            "Este bloque está correctamente identado\n",
            "Bloque interno también correcto\n"
          ]
        }
      ]
    },
    {
      "cell_type": "markdown",
      "source": [
        "## 🔀 6. Estructuras de Control: if, elif, else\n",
        "\n",
        "Las **estructuras condicionales** permiten ejecutar diferentes bloques de código según se cumpla una condición.  \n",
        "\n",
        "### Sintaxis básica:\n",
        "```python\n",
        "if condicion:\n",
        "    # bloque si la condición es verdadera\n",
        "elif otra_condicion:\n",
        "    # bloque si la primera no se cumple pero esta sí\n",
        "else:\n",
        "    # bloque si ninguna condición anterior se cumple\n",
        "```\n",
        "\n",
        "**Notas importantes:**\n",
        "\n",
        "* La condición debe devolver un valor booleano (True o False).\n",
        "* Los bloques se identifican mediante identación.\n",
        "* Se pueden encadenar múltiples elif.\n",
        "* El bloque else es opcional."
      ],
      "metadata": {
        "id": "4IGKDsql3K-u"
      }
    },
    {
      "cell_type": "code",
      "source": [
        "x = 10\n",
        "\n",
        "if x > 0:\n",
        "    print(\"x es positivo\")\n",
        "elif x == 0:\n",
        "    print(\"x es cero\")\n",
        "else:\n",
        "    print(\"x es negativo\")\n",
        "\n",
        "# Otro ejemplo con encadenamiento\n",
        "nota = 7\n",
        "\n",
        "if nota >= 9:\n",
        "    print(\"Sobresaliente\")\n",
        "elif nota >= 7:\n",
        "    print(\"Notable\")\n",
        "elif nota >= 5:\n",
        "    print(\"Aprobado\")\n",
        "else:\n",
        "    print(\"Suspenso\")\n",
        "\n"
      ],
      "metadata": {
        "colab": {
          "base_uri": "https://localhost:8080/"
        },
        "id": "5ISuQDBe28rv",
        "outputId": "d50ffce8-c8e4-40d2-a536-b7d94b6baa3f"
      },
      "execution_count": null,
      "outputs": [
        {
          "output_type": "stream",
          "name": "stdout",
          "text": [
            "x es positivo\n",
            "Notable\n"
          ]
        }
      ]
    },
    {
      "cell_type": "markdown",
      "source": [
        "## 🔀 7. If Anidados\n",
        "\n",
        "En Python, podemos colocar un **`if` dentro de otro `if`**, lo que permite evaluar condiciones más complejas.  \n",
        "Esto se conoce como **if anidados**.\n",
        "\n",
        "### Ejemplo de uso\n",
        "- Útil cuando necesitamos que ciertas comprobaciones solo se ejecuten si se cumple una condición previa.\n",
        "- Cada bloque interno debe tener **identación correcta**.\n"
      ],
      "metadata": {
        "id": "ntvgVjwL5K1r"
      }
    },
    {
      "cell_type": "code",
      "source": [
        "edad = 20\n",
        "tiene_licencia = True\n",
        "\n",
        "if edad >= 18:\n",
        "    print(\"Eres mayor de edad\")\n",
        "\n",
        "    if tiene_licencia:\n",
        "        print(\"Y además tienes licencia de conducir\")\n",
        "    else:\n",
        "        print(\"Pero no tienes licencia de conducir\")\n",
        "else:\n",
        "    print(\"Eres menor de edad\")\n",
        "\n"
      ],
      "metadata": {
        "colab": {
          "base_uri": "https://localhost:8080/"
        },
        "id": "UqudvBZR5LSw",
        "outputId": "ca2aeda4-1888-4e62-9ab4-8230ed994aac"
      },
      "execution_count": null,
      "outputs": [
        {
          "output_type": "stream",
          "name": "stdout",
          "text": [
            "Eres mayor de edad\n",
            "Y además tienes licencia de conducir\n"
          ]
        }
      ]
    },
    {
      "cell_type": "markdown",
      "source": [
        "## 🔁 8. Bucles en Python: for y while\n",
        "\n",
        "Los **bucles** permiten ejecutar un bloque de código varias veces mientras se cumpla una condición o se recorran elementos de una colección.\n",
        "\n",
        "### 1️⃣ Bucle `while`\n",
        "- Ejecuta un bloque mientras la **condición sea True**.\n",
        "- Se puede convertir en bucle infinito si la condición nunca se vuelve False.\n",
        "- Python **no tiene do-while**, pero se puede simular ejecutando primero el bloque y luego verificando la condición.\n",
        "\n",
        "### 2️⃣ Bucle `for`\n",
        "- Se utiliza para **recorrer elementos de cualquier secuencia** (listas, tuplas, diccionarios, strings, ranges).\n",
        "- Diferente de otros lenguajes, Python no usa un índice numérico por defecto; se recorre **directamente cada elemento**.\n",
        "- Formas de usar `for`:\n",
        "  1. Recorrer listas o tuplas: `for elemento in lista:`\n",
        "  2. Recorrer diccionarios (claves, valores o ambos): `for clave, valor in dic.items():`\n",
        "  3. Recorrer rangos de números: `for i in range(inicio, fin, paso):`\n",
        "\n",
        "### 3️⃣ Break y continue\n",
        "- `break` termina el bucle inmediatamente.\n",
        "- `continue` salta a la siguiente iteración.\n"
      ],
      "metadata": {
        "id": "RQt6-0xL3oJ7"
      }
    },
    {
      "cell_type": "code",
      "source": [
        "# -------------------------\n",
        "# Bucle while\n",
        "contador = 0\n",
        "while contador < 5:\n",
        "    print(\"contador =\", contador)\n",
        "    contador += 1\n",
        "\n",
        "\n"
      ],
      "metadata": {
        "colab": {
          "base_uri": "https://localhost:8080/"
        },
        "id": "ZvxgT5Qv3Z-r",
        "outputId": "522ff222-c07d-4539-daae-b7b9cfc00a24"
      },
      "execution_count": null,
      "outputs": [
        {
          "output_type": "stream",
          "name": "stdout",
          "text": [
            "contador = 0\n",
            "contador = 1\n",
            "contador = 2\n",
            "contador = 3\n",
            "contador = 4\n",
            "\n",
            "\n"
          ]
        }
      ]
    },
    {
      "cell_type": "code",
      "source": [
        "# -------------------------\n",
        "# Simulación de do-while\n",
        "contador = 0\n",
        "while True:\n",
        "    print(\"Simulación do-while, contador =\", contador)\n",
        "    contador += 1\n",
        "    if contador >= 3:\n",
        "        break\n",
        "\n"
      ],
      "metadata": {
        "colab": {
          "base_uri": "https://localhost:8080/"
        },
        "id": "AJhA9Dgt3zr0",
        "outputId": "7afc5846-dc2c-4009-8594-480756e4e369"
      },
      "execution_count": null,
      "outputs": [
        {
          "output_type": "stream",
          "name": "stdout",
          "text": [
            "Simulación do-while, contador = 0\n",
            "Simulación do-while, contador = 1\n",
            "Simulación do-while, contador = 2\n",
            "\n",
            "\n"
          ]
        }
      ]
    },
    {
      "cell_type": "code",
      "source": [
        "# -------------------------\n",
        "# Bucle for sobre lista\n",
        "frutas = [\"manzana\", \"banana\", \"cereza\"]\n",
        "for fruta in frutas:\n",
        "    print(\"Fruta:\", fruta)\n",
        "\n"
      ],
      "metadata": {
        "colab": {
          "base_uri": "https://localhost:8080/"
        },
        "id": "IT9xBaUb4XIv",
        "outputId": "a3793033-cffb-4a8b-d022-cc3aaf8565ca"
      },
      "execution_count": null,
      "outputs": [
        {
          "output_type": "stream",
          "name": "stdout",
          "text": [
            "Fruta: manzana\n",
            "Fruta: banana\n",
            "Fruta: cereza\n",
            "\n",
            "\n"
          ]
        }
      ]
    },
    {
      "cell_type": "code",
      "source": [
        "# -------------------------\n",
        "# Bucle for sobre diccionario\n",
        "edades = {\"Ana\": 25, \"Luis\": 30}\n",
        "for nombre, edad in edades.items():\n",
        "    print(nombre, \"tiene\", edad, \"años\")\n",
        "\n"
      ],
      "metadata": {
        "colab": {
          "base_uri": "https://localhost:8080/"
        },
        "id": "eVaz2NdS4bjg",
        "outputId": "33a631cc-54bd-4d0e-e137-563be5a2ace0"
      },
      "execution_count": null,
      "outputs": [
        {
          "output_type": "stream",
          "name": "stdout",
          "text": [
            "Ana tiene 25 años\n",
            "Luis tiene 30 años\n",
            "\n",
            "\n"
          ]
        }
      ]
    },
    {
      "cell_type": "code",
      "source": [
        "# -------------------------\n",
        "# Bucle for con range\n",
        "for i in range(0, 5):        # 0 a 4\n",
        "    print(\"i =\", i)\n",
        "\n",
        "for i in range(1, 10, 2):    # 1,3,5,7,9\n",
        "    print(\"i impar =\", i)\n",
        "\n",
        "print(\"\\n\")  # Salto de línea entre tipos de bucles\n",
        "\n"
      ],
      "metadata": {
        "colab": {
          "base_uri": "https://localhost:8080/"
        },
        "id": "dy3KBU1f4eaA",
        "outputId": "79a203db-0da7-4417-db49-9dae94e8993e"
      },
      "execution_count": null,
      "outputs": [
        {
          "output_type": "stream",
          "name": "stdout",
          "text": [
            "i = 0\n",
            "i = 1\n",
            "i = 2\n",
            "i = 3\n",
            "i = 4\n",
            "i impar = 1\n",
            "i impar = 3\n",
            "i impar = 5\n",
            "i impar = 7\n",
            "i impar = 9\n",
            "\n",
            "\n"
          ]
        }
      ]
    },
    {
      "cell_type": "code",
      "source": [
        "# -------------------------\n",
        "# Uso de break y continue\n",
        "for i in range(5):\n",
        "    if i == 3:\n",
        "        break\n",
        "    print(\"Break:\", i)\n",
        "\n",
        "print(\"\\n\")  # Salto de línea entre break y continue\n",
        "\n",
        "for i in range(5):\n",
        "    if i == 3:\n",
        "        continue\n",
        "    print(\"Continue:\", i)\n"
      ],
      "metadata": {
        "colab": {
          "base_uri": "https://localhost:8080/"
        },
        "id": "36nmDtdA4gSY",
        "outputId": "ffb8c7c1-2b41-4eeb-bcf8-26605e2837a8"
      },
      "execution_count": null,
      "outputs": [
        {
          "output_type": "stream",
          "name": "stdout",
          "text": [
            "Break: 0\n",
            "Break: 1\n",
            "Break: 2\n",
            "\n",
            "\n",
            "Continue: 0\n",
            "Continue: 1\n",
            "Continue: 2\n",
            "Continue: 4\n"
          ]
        }
      ]
    },
    {
      "cell_type": "markdown",
      "source": [
        "## 💯 9. Tipos de Datos Complejos en Python\n",
        "\n",
        "Además de los tipos simples (`int`, `float`, `str`, `bool`), Python tiene **colecciones** que permiten almacenar múltiples valores y trabajar con ellos de forma eficiente.\n",
        "\n",
        "### Tipos de colecciones\n",
        "\n",
        "| Tipo      | Descripción                                | Mutable |\n",
        "|-----------|-------------------------------------------|---------|\n",
        "| `list`    | Lista ordenada de elementos               | Sí      |\n",
        "| `tuple`   | Tupla ordenada e inmutable                | No      |\n",
        "| `dict`    | Diccionario de pares clave-valor          | Sí      |\n",
        "| `set`     | Conjunto no ordenado, sin duplicados      | Sí      |\n",
        "\n",
        "### Notas importantes\n",
        "- Las **listas** se usan para colecciones que pueden cambiar.\n",
        "- Las **tuplas** son útiles para datos constantes.\n",
        "- Los **diccionarios** permiten acceder a los datos por clave.\n",
        "- Los **sets** son ideales para operaciones de teoría de conjuntos.\n"
      ],
      "metadata": {
        "id": "LxQLW_py5tmW"
      }
    },
    {
      "cell_type": "code",
      "source": [
        "# -------------------------\n",
        "# Listas\n",
        "frutas = [\"manzana\", \"banana\", \"cereza\"]\n",
        "\n",
        "print(\"Lista completa:\", frutas)\n",
        "print(\"Primer elemento:\", frutas[0])\n",
        "print(\"Último elemento:\", frutas[-1])\n",
        "print(\"Sublista de índice 1 a 2:\", frutas[1:3])\n",
        "\n",
        "frutas.append(\"naranja\")\n",
        "print(\"Lista tras append:\", frutas)\n",
        "\n",
        "frutas.remove(\"banana\")\n",
        "print(\"Lista tras remove:\", frutas)\n"
      ],
      "metadata": {
        "colab": {
          "base_uri": "https://localhost:8080/"
        },
        "id": "MEF0Zowc4iiQ",
        "outputId": "faccfd3e-e724-4a6b-8cd3-67ad05ea13ac"
      },
      "execution_count": null,
      "outputs": [
        {
          "output_type": "stream",
          "name": "stdout",
          "text": [
            "Lista completa: ['manzana', 'banana', 'cereza']\n",
            "Primer elemento: manzana\n",
            "Último elemento: cereza\n",
            "Sublista de índice 1 a 2: ['banana', 'cereza']\n",
            "Lista tras append: ['manzana', 'banana', 'cereza', 'naranja']\n",
            "\n",
            "\n"
          ]
        }
      ]
    },
    {
      "cell_type": "code",
      "source": [
        "# -------------------------\n",
        "# Tuplas\n",
        "coordenadas = (10, 20)\n",
        "print(\"Tupla completa:\", coordenadas)\n",
        "print(\"Elemento índice 0:\", coordenadas[0])\n",
        "x, y = coordenadas  # desempaquetado\n",
        "print(\"Desempaquetado:\", x, y)\n",
        "\n"
      ],
      "metadata": {
        "colab": {
          "base_uri": "https://localhost:8080/"
        },
        "id": "Sha8_TAe50to",
        "outputId": "9d9d58f5-dbed-45d1-a241-220efca00283"
      },
      "execution_count": null,
      "outputs": [
        {
          "output_type": "stream",
          "name": "stdout",
          "text": [
            "Tupla completa: (10, 20)\n",
            "Elemento índice 0: 10\n",
            "Desempaquetado: 10 20\n"
          ]
        }
      ]
    },
    {
      "cell_type": "code",
      "source": [
        "# -------------------------\n",
        "# Diccionarios\n",
        "persona = {\"nombre\": \"Ana\", \"edad\": 25}\n",
        "print(\"Diccionario completo:\", persona)\n",
        "print(\"Acceso por clave 'nombre':\", persona[\"nombre\"])\n",
        "persona[\"edad\"] = 26      # modificar valor\n",
        "persona[\"ciudad\"] = \"Madrid\"  # añadir clave\n",
        "print(\"Diccionario actualizado:\", persona)\n",
        "del persona[\"ciudad\"]    # eliminar clave\n",
        "print(\"Diccionario final:\", persona)\n",
        "\n"
      ],
      "metadata": {
        "colab": {
          "base_uri": "https://localhost:8080/"
        },
        "id": "d5r52yGt5_hh",
        "outputId": "28e406ef-acae-494d-d7a3-6b865cfa65e2"
      },
      "execution_count": null,
      "outputs": [
        {
          "output_type": "stream",
          "name": "stdout",
          "text": [
            "Diccionario completo: {'nombre': 'Ana', 'edad': 25}\n",
            "Acceso por clave 'nombre': Ana\n",
            "Diccionario actualizado: {'nombre': 'Ana', 'edad': 26, 'ciudad': 'Madrid'}\n",
            "Diccionario final: {'nombre': 'Ana', 'edad': 26}\n"
          ]
        }
      ]
    },
    {
      "cell_type": "code",
      "source": [
        "# -------------------------\n",
        "# Conjuntos\n",
        "numeros = {1, 2, 3, 4}\n",
        "print(\"Conjunto completo:\", numeros)\n",
        "print(\"¿Está el 3 en el conjunto?\", 3 in numeros)\n",
        "numeros.add(5)\n",
        "numeros.remove(2)\n",
        "print(\"Conjunto tras add y remove:\", numeros)\n",
        "\n"
      ],
      "metadata": {
        "colab": {
          "base_uri": "https://localhost:8080/"
        },
        "id": "AYMHtUbw6B-5",
        "outputId": "cc2fc505-9d2a-46be-8f70-50999f18e3b0"
      },
      "execution_count": null,
      "outputs": [
        {
          "output_type": "stream",
          "name": "stdout",
          "text": [
            "Conjunto completo: {1, 2, 3, 4}\n",
            "¿Está el 3 en el conjunto? True\n",
            "Conjunto tras add y remove: {1, 3, 4, 5}\n"
          ]
        }
      ]
    },
    {
      "cell_type": "markdown",
      "source": [
        "## 🔧 10. Operaciones Comunes sobre Colecciones\n",
        "\n",
        "Cada tipo de colección en Python tiene **operaciones específicas** que permiten agregar, eliminar, modificar y recorrer los elementos.\n",
        "\n",
        "### Listas (`list`)\n",
        "- Añadir: `append()`, `insert()`, `extend()`\n",
        "- Eliminar: `remove()`, `pop()`, `clear()`\n",
        "- Ordenar: `sort()`, `reverse()`\n",
        "- Recorrer: `for elemento in lista:`\n",
        "\n",
        "### Tuplas (`tuple`)\n",
        "- Inmutables: no se pueden modificar.\n",
        "- Se pueden **recorrer** y **desempaquetar**.\n",
        "- Uso típico: almacenar datos que no cambian, como coordenadas o parámetros fijos.\n",
        "\n",
        "### Diccionarios (`dict`)\n",
        "- Acceder a valores: `dic[clave]`\n",
        "- Añadir/Modificar: `dic[clave] = valor`\n",
        "- Eliminar: `del dic[clave]`, `pop()`\n",
        "- Recorrer: `for clave, valor in dic.items()`\n",
        "\n",
        "### Conjuntos (`set`)\n",
        "- Añadir: `add()`\n",
        "- Eliminar: `remove()`, `discard()`\n",
        "- Operaciones de conjuntos: unión `|`, intersección `&`, diferencia `-`\n",
        "- Recorrer con `for elemento in set:`\n"
      ],
      "metadata": {
        "id": "xv48pRns7efS"
      }
    },
    {
      "cell_type": "code",
      "source": [
        "# -------------------------\n",
        "# Operaciones con listas\n",
        "numeros = [5, 2, 9]\n",
        "numeros.append(7)\n",
        "numeros.insert(1, 3)\n",
        "numeros.sort()\n",
        "print(\"Lista ordenada:\", numeros)\n",
        "\n",
        "numeros.remove(2)\n",
        "print(\"Lista tras remove:\", numeros)\n",
        "\n",
        "numeros.pop()\n",
        "print(\"Lista tras pop:\", numeros)\n"
      ],
      "metadata": {
        "colab": {
          "base_uri": "https://localhost:8080/"
        },
        "id": "sH5isgHM6DCK",
        "outputId": "b1495734-31ee-47dc-afd8-2479d241b424"
      },
      "execution_count": null,
      "outputs": [
        {
          "output_type": "stream",
          "name": "stdout",
          "text": [
            "Lista ordenada: [2, 3, 5, 7, 9]\n",
            "Lista tras remove: [3, 5, 7, 9]\n",
            "Lista tras pop: [3, 5, 7]\n"
          ]
        }
      ]
    },
    {
      "cell_type": "code",
      "source": [
        "\n",
        "# -------------------------\n",
        "# Operaciones con tuplas\n",
        "coordenadas = (10, 20, 30)\n",
        "x, y, z = coordenadas\n",
        "print(\"Desempaquetado tupla:\", x, y, z)\n",
        "\n",
        "for valor in coordenadas:\n",
        "    print(\"Elemento tupla:\", valor)\n",
        "\n",
        "\n"
      ],
      "metadata": {
        "colab": {
          "base_uri": "https://localhost:8080/"
        },
        "id": "bQDQwUnp7zNV",
        "outputId": "664f89ca-8177-435c-b04e-1439087ce88f"
      },
      "execution_count": null,
      "outputs": [
        {
          "output_type": "stream",
          "name": "stdout",
          "text": [
            "Desempaquetado tupla: 10 20 30\n",
            "Elemento tupla: 10\n",
            "Elemento tupla: 20\n",
            "Elemento tupla: 30\n"
          ]
        }
      ]
    },
    {
      "cell_type": "code",
      "source": [
        "# -------------------------\n",
        "# Operaciones con diccionarios\n",
        "persona = {\"nombre\": \"Luis\", \"edad\": 30}\n",
        "\n",
        "persona[\"ciudad\"] = \"Sevilla\"\n",
        "\n",
        "print(\"Diccionario actualizado:\", persona)\n",
        "print(\"Edad de Luis:\", persona[\"edad\"])\n",
        "\n",
        "persona[\"edad\"] = 31\n",
        "print(\"Diccionario tras modificar:\", persona)\n",
        "\n",
        "del persona[\"edad\"]\n",
        "print(\"Diccionario tras del:\", persona)\n",
        "\n",
        "for clave, valor in persona.items():\n",
        "    print(clave, \"->\", valor)\n",
        "\n"
      ],
      "metadata": {
        "colab": {
          "base_uri": "https://localhost:8080/"
        },
        "id": "3El2kmaZ72xc",
        "outputId": "f4b0fe9c-02b3-4940-8bcc-d38c1e6a2daf"
      },
      "execution_count": null,
      "outputs": [
        {
          "output_type": "stream",
          "name": "stdout",
          "text": [
            "Diccionario actualizado: {'nombre': 'Luis', 'edad': 30, 'ciudad': 'Sevilla'}\n",
            "Edad de Luis: 30\n",
            "Diccionario tras modificar: {'nombre': 'Luis', 'edad': 31, 'ciudad': 'Sevilla'}\n",
            "Diccionario tras del: {'nombre': 'Luis', 'ciudad': 'Sevilla'}\n",
            "nombre -> Luis\n",
            "ciudad -> Sevilla\n"
          ]
        }
      ]
    },
    {
      "cell_type": "code",
      "source": [
        "# -------------------------\n",
        "# Operaciones con conjuntos\n",
        "primos = {2, 3, 5, 7}\n",
        "\n",
        "primos.add(11)\n",
        "print(\"Conjunto tras add:\", primos)\n",
        "\n",
        "primos.discard(3)\n",
        "print(\"Conjunto tras discard:\", primos)\n",
        "\n",
        "primos.remove(5)\n",
        "print(\"Conjunto tras remove:\", primos)\n",
        "\n",
        "pares = {2, 4, 6}\n",
        "print(\"Unión:\", primos | pares)\n",
        "print(\"Intersección:\", primos & pares)\n",
        "print(\"Diferencia:\", primos - pares)"
      ],
      "metadata": {
        "colab": {
          "base_uri": "https://localhost:8080/"
        },
        "id": "tHh8dqNW75r8",
        "outputId": "16230e52-0b42-48f4-f84a-9f35bbd8e546"
      },
      "execution_count": null,
      "outputs": [
        {
          "output_type": "stream",
          "name": "stdout",
          "text": [
            "Conjunto tras add: {2, 3, 5, 7, 11}\n",
            "Conjunto tras discard: {2, 5, 7, 11}\n",
            "Conjunto tras remove: {2, 7, 11}\n",
            "Unión: {2, 4, 6, 7, 11}\n",
            "Intersección: {2}\n",
            "Diferencia: {11, 7}\n"
          ]
        }
      ]
    },
    {
      "cell_type": "markdown",
      "source": [
        "## 🛠️ 11. Funciones en Python\n",
        "\n",
        "Las **funciones** son bloques de código reutilizables que realizan una tarea específica.  \n",
        "Permiten organizar mejor el código y evitar duplicaciones.\n",
        "\n",
        "### Sintaxis básica\n",
        "```python\n",
        "def nombre_funcion(param1, param2):\n",
        "    # bloque de código\n",
        "    return valor  # opcional\n",
        "```\n",
        "\n",
        "## Beneficios de usar funciones\n",
        "\n",
        "- **Reutilización del código**: evita repetir la misma lógica en varios lugares.  \n",
        "- **Mayor claridad**: divide el código en bloques comprensibles.  \n",
        "- **Mantenimiento más fácil**: si cambia la lógica, solo se modifica dentro de la función.  \n",
        "- **Facilita pruebas**: cada función puede probarse de manera independiente."
      ],
      "metadata": {
        "id": "veIDP49k8-g_"
      }
    },
    {
      "cell_type": "markdown",
      "source": [
        "## Conceptos clave de las funciones en Python\n",
        "\n",
        "- **Parámetros**: valores que se pasan a la función para que trabaje con ellos.  \n",
        "- **Valor de retorno**: resultado que devuelve la función (opcional). Si no se usa `return`, la función devuelve `None`.  \n",
        "- **Funciones sin retorno**: ejecutan tareas pero no devuelven nada (solo realizan acciones como imprimir o modificar estructuras).  \n",
        "- **Parámetros por defecto**: se pueden asignar valores predeterminados a los parámetros, para que la función los use si no se proporciona otro valor.  \n",
        "- **Parámetros arbitrarios**: `*args` permite pasar un número indefinido de argumentos posicionales (tupla), `**kwargs` permite pasar un número indefinido de argumentos con nombre (diccionario).  \n",
        "\n",
        "\n"
      ],
      "metadata": {
        "id": "NDxkYx3c9DwQ"
      }
    },
    {
      "cell_type": "code",
      "source": [
        "# -------------------------\n",
        "# Función simple sin parámetros y sin retorno\n",
        "def saludar():\n",
        "    print(\"¡Hola, Python!\")\n",
        "\n",
        "saludar()\n"
      ],
      "metadata": {
        "colab": {
          "base_uri": "https://localhost:8080/"
        },
        "id": "6rz8HpQf8ER-",
        "outputId": "482388ee-a0d4-4a45-ad5b-06d58de6f94f"
      },
      "execution_count": null,
      "outputs": [
        {
          "output_type": "stream",
          "name": "stdout",
          "text": [
            "¡Hola, Python!\n"
          ]
        }
      ]
    },
    {
      "cell_type": "code",
      "source": [
        "# -------------------------\n",
        "# Función con parámetros y retorno\n",
        "def sumar(a, b):\n",
        "    return a + b\n",
        "\n",
        "resultado = sumar(5, 7)\n",
        "print(\"Suma:\", resultado)\n"
      ],
      "metadata": {
        "colab": {
          "base_uri": "https://localhost:8080/"
        },
        "id": "syxwlQpP9e29",
        "outputId": "cdc5c9d6-7f46-4367-f463-01d5f5ae43d9"
      },
      "execution_count": null,
      "outputs": [
        {
          "output_type": "stream",
          "name": "stdout",
          "text": [
            "Suma: 12\n"
          ]
        }
      ]
    },
    {
      "cell_type": "code",
      "source": [
        "# Función con parámetros por defecto\n",
        "def presentar(nombre=\"Desconocido\", edad=0):\n",
        "    print(\"Nombre:\", nombre, \", Edad:\", edad)\n",
        "\n",
        "presentar(\"Ana\", 25)\n",
        "presentar()  # usa valores por defecto\n"
      ],
      "metadata": {
        "colab": {
          "base_uri": "https://localhost:8080/"
        },
        "id": "ICmjoA7J9hhN",
        "outputId": "ebc1f621-75cd-45a9-add7-e23e01c6d275"
      },
      "execution_count": null,
      "outputs": [
        {
          "output_type": "stream",
          "name": "stdout",
          "text": [
            "Nombre: Ana , Edad: 25\n",
            "Nombre: Desconocido , Edad: 0\n"
          ]
        }
      ]
    },
    {
      "cell_type": "markdown",
      "source": [
        "## 📦 Parámetros arbitrarios en Python: *args y **kwargs\n",
        "\n",
        "En Python, podemos definir funciones que reciban **un número indefinido de argumentos** usando:\n",
        "\n",
        "- **`*args`**  \n",
        "  - Se utiliza para recibir **argumentos posicionales adicionales** que no hemos definido como parámetros normales.  \n",
        "  - Dentro de la función, `args` es una **tupla** que contiene todos los valores extra.  \n",
        "  - Útil cuando no sabemos cuántos argumentos recibirá la función.\n",
        "\n",
        "- **`**kwargs`**  \n",
        "  - Se utiliza para recibir **argumentos con nombre adicionales** (key=value) que no hemos definido como parámetros normales.  \n",
        "  - Dentro de la función, `kwargs` es un **diccionario** que contiene todas las claves y valores extra.  \n",
        "  - Útil cuando queremos aceptar parámetros opcionales o configuraciones flexibles.\n",
        "\n",
        "### Cómo se llaman\n",
        "\n",
        "- Los valores para `*args` se pasan **normalmente** como argumentos posicionales.  \n",
        "- Los valores para `**kwargs` se pasan usando **clave=valor**.  \n",
        "- Se pueden combinar ambos en la misma función, pero **`*args` debe ir antes que `**kwargs`**.\n",
        "\n",
        "### Ejemplo conceptual\n",
        "\n",
        "```python\n",
        "def ejemplo(*args, **kwargs):\n",
        "    print(\"args:\", args)     # tupla con argumentos posicionales\n",
        "    print(\"kwargs:\", kwargs) # diccionario con argumentos con nombre\n",
        "\n",
        "# Llamadas posibles:\n",
        "ejemplo(1, 2, 3)\n",
        "ejemplo(a=10, b=20)\n",
        "ejemplo(1, 2, nombre=\"Ana\", edad=25)\n"
      ],
      "metadata": {
        "id": "K_ELZJm590GS"
      }
    },
    {
      "cell_type": "code",
      "source": [
        "# -------------------------\n",
        "# Función con parámetros arbitrarios (*args y **kwargs)\n",
        "def mostrar_info(*args, **kwargs):\n",
        "    print(\"args:\", args)\n",
        "    print(\"kwargs:\", kwargs)\n",
        "\n",
        "mostrar_info(1, 2, 3)\n"
      ],
      "metadata": {
        "colab": {
          "base_uri": "https://localhost:8080/"
        },
        "id": "pwUFT5-o9kYu",
        "outputId": "708076c6-bafd-4d75-bccf-edf8494df5da"
      },
      "execution_count": null,
      "outputs": [
        {
          "output_type": "stream",
          "name": "stdout",
          "text": [
            "args: (1, 2, 3)\n",
            "kwargs: {}\n"
          ]
        }
      ]
    },
    {
      "cell_type": "code",
      "source": [
        "mostrar_info(a=10, b=20)\n"
      ],
      "metadata": {
        "colab": {
          "base_uri": "https://localhost:8080/"
        },
        "id": "K-oNSU-89oE3",
        "outputId": "3af2e7ac-fe5d-464e-bc5d-2c3313691602"
      },
      "execution_count": null,
      "outputs": [
        {
          "output_type": "stream",
          "name": "stdout",
          "text": [
            "args: ()\n",
            "kwargs: {'a': 10, 'b': 20}\n"
          ]
        }
      ]
    },
    {
      "cell_type": "code",
      "source": [
        "mostrar_info(1, 2, nombre=\"Luis\", edad=30)\n"
      ],
      "metadata": {
        "colab": {
          "base_uri": "https://localhost:8080/"
        },
        "id": "iZ90Y6-o-I3y",
        "outputId": "f93d3fd7-9a03-4afd-ea51-175bb04b60b7"
      },
      "execution_count": null,
      "outputs": [
        {
          "output_type": "stream",
          "name": "stdout",
          "text": [
            "args: (1, 2)\n",
            "kwargs: {'nombre': 'Luis', 'edad': 30}\n"
          ]
        }
      ]
    },
    {
      "cell_type": "markdown",
      "source": [
        "## ⚠️ 12. Excepciones y Manejo de Errores en Python\n",
        "\n",
        "En Python, los errores que ocurren durante la ejecución se llaman **excepciones**.  \n",
        "Si no se manejan, el programa se detiene. Por eso, es importante usar estructuras que **capturen y manejen** estas excepciones.\n",
        "\n",
        "### Conceptos clave\n",
        "\n",
        "- **try**: bloque donde se coloca el código que puede generar un error.  \n",
        "- **except**: bloque que captura y maneja una excepción específica o general.  \n",
        "- **else**: bloque opcional que se ejecuta si no ocurre ninguna excepción.  \n",
        "- **finally**: bloque que siempre se ejecuta, ocurra o no una excepción, útil para liberar recursos.  \n",
        "- **raise**: se usa para generar una excepción de manera manual.\n",
        "\n",
        "### Beneficios de usar excepciones\n",
        "- Evitar que el programa termine abruptamente.  \n",
        "- Controlar errores de manera organizada y legible.  \n",
        "- Permitir acciones de recuperación o limpieza cuando ocurre un fallo.  \n",
        "- Mejorar la robustez y seguridad del código.\n"
      ],
      "metadata": {
        "id": "eL9S1X7l--yD"
      }
    },
    {
      "cell_type": "markdown",
      "source": [
        "## 📌 Tipos de Excepciones Comunes en Python\n",
        "\n",
        "Python tiene muchas excepciones predefinidas que nos permiten **identificar el tipo de error** ocurrido. Algunas de las más comunes son:\n",
        "\n",
        "| Excepción             | Descripción |\n",
        "|-----------------------|------------|\n",
        "| `Exception`           | Clase base para todas las excepciones. |\n",
        "| `ValueError`          | Ocurre cuando un valor tiene el tipo correcto pero es inapropiado (ej: `int(\"abc\")`). |\n",
        "| `TypeError`           | Ocurre cuando un tipo de dato no es compatible con la operación (ej: `\"2\" + 2`). |\n",
        "| `ZeroDivisionError`   | División entre cero. |\n",
        "| `IndexError`          | Índice fuera de rango en listas o tuplas. |\n",
        "| `KeyError`            | Clave no existente en un diccionario. |\n",
        "| `FileNotFoundError`   | Archivo no encontrado al intentar abrirlo. |\n",
        "| `IOError`             | Error de entrada/salida general (lectura/escritura de archivos). |\n",
        "| `AttributeError`      | Cuando se intenta acceder a un atributo inexistente de un objeto. |\n",
        "| `ImportError`         |\n"
      ],
      "metadata": {
        "id": "qsbAnr7f-0r7"
      }
    },
    {
      "cell_type": "code",
      "source": [
        "# -------------------------\n",
        "# Ejemplo básico de try-except\n",
        "try:\n",
        "    x = int(input(\"Introduce un número: \"))\n",
        "    print(\"Número introducido:\", x)\n",
        "except ValueError:\n",
        "    print(\"¡Error! Debes introducir un número válido.\")\n",
        "\n",
        "\n"
      ],
      "metadata": {
        "colab": {
          "base_uri": "https://localhost:8080/"
        },
        "id": "I3duiU8k-xR1",
        "outputId": "3679031a-72f6-4e29-dd13-d8f95922a933"
      },
      "execution_count": null,
      "outputs": [
        {
          "output_type": "stream",
          "name": "stdout",
          "text": [
            "Introduce un número: 2\n",
            "Número introducido: 2\n"
          ]
        }
      ]
    },
    {
      "cell_type": "code",
      "source": [
        "# -------------------------\n",
        "# Try-except-else\n",
        "try:\n",
        "    resultado = 10 / 0\n",
        "except ZeroDivisionError:\n",
        "    print(\"No se puede dividir entre cero\")\n",
        "else:\n",
        "    print(\"La división fue correcta, resultado:\", resultado)\n",
        "\n"
      ],
      "metadata": {
        "colab": {
          "base_uri": "https://localhost:8080/"
        },
        "id": "tE6mi-BV_Iqn",
        "outputId": "85f6f046-fd18-4539-b8b4-475966c4bf02"
      },
      "execution_count": null,
      "outputs": [
        {
          "output_type": "stream",
          "name": "stdout",
          "text": [
            "No se puede dividir entre cero\n"
          ]
        }
      ]
    },
    {
      "cell_type": "code",
      "source": [
        "# -------------------------\n",
        "# Try-finally\n",
        "try:\n",
        "    fichero = open(\"archivo_ejemplo.txt\", \"w\")\n",
        "    fichero.write(\"Hola, Python\")\n",
        "finally:\n",
        "    fichero.close()\n",
        "    print(\"Archivo cerrado correctamente\")\n",
        "\n"
      ],
      "metadata": {
        "colab": {
          "base_uri": "https://localhost:8080/"
        },
        "id": "VhOeTjTa_LHI",
        "outputId": "4c5f79fd-65af-42df-c004-125134df781d"
      },
      "execution_count": null,
      "outputs": [
        {
          "output_type": "stream",
          "name": "stdout",
          "text": [
            "Archivo cerrado correctamente\n"
          ]
        }
      ]
    },
    {
      "cell_type": "code",
      "source": [
        "\n",
        "# -------------------------\n",
        "# Raise: generar una excepción manualmente\n",
        "def validar_edad(edad):\n",
        "    if edad < 0:\n",
        "        raise ValueError(\"La edad no puede ser negativa\")\n",
        "    print(\"Edad válida:\", edad)\n",
        "\n",
        "try:\n",
        "    validar_edad(-5)\n",
        "except ValueError as e:\n",
        "    print(\"Excepción capturada:\", e)\n"
      ],
      "metadata": {
        "colab": {
          "base_uri": "https://localhost:8080/"
        },
        "id": "5iWGZ4gB_PRQ",
        "outputId": "fb4dec0b-3291-41d1-a895-162f56a1e4bf"
      },
      "execution_count": null,
      "outputs": [
        {
          "output_type": "stream",
          "name": "stdout",
          "text": [
            "Excepción capturada: La edad no puede ser negativa\n"
          ]
        }
      ]
    },
    {
      "cell_type": "code",
      "source": [],
      "metadata": {
        "id": "BEDNGBf__PuP"
      },
      "execution_count": null,
      "outputs": []
    }
  ]
}